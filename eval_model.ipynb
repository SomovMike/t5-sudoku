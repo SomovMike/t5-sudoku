{
 "cells": [
  {
   "cell_type": "code",
   "execution_count": 2,
   "metadata": {},
   "outputs": [
    {
     "name": "stdout",
     "output_type": "stream",
     "text": [
      "\n",
      "Testing with 6 clues...\n"
     ]
    },
    {
     "name": "stderr",
     "output_type": "stream",
     "text": [
      "Number of non-empty cells=6: 100%|██████████| 100/100 [00:08<00:00, 11.77it/s]\n"
     ]
    },
    {
     "name": "stdout",
     "output_type": "stream",
     "text": [
      "Results for 6 non-empty cells:\n",
      "  Accuracy: 85/100 (85.00%)\n",
      "\n",
      "Testing with 7 clues...\n"
     ]
    },
    {
     "name": "stderr",
     "output_type": "stream",
     "text": [
      "Number of non-empty cells=7: 100%|██████████| 100/100 [00:08<00:00, 12.17it/s]\n"
     ]
    },
    {
     "name": "stdout",
     "output_type": "stream",
     "text": [
      "Results for 7 non-empty cells:\n",
      "  Accuracy: 95/100 (95.00%)\n",
      "\n",
      "Testing with 8 clues...\n"
     ]
    },
    {
     "name": "stderr",
     "output_type": "stream",
     "text": [
      "Number of non-empty cells=8: 100%|██████████| 100/100 [00:08<00:00, 12.19it/s]\n"
     ]
    },
    {
     "name": "stdout",
     "output_type": "stream",
     "text": [
      "Results for 8 non-empty cells:\n",
      "  Accuracy: 95/100 (95.00%)\n",
      "\n",
      "Testing with 9 clues...\n"
     ]
    },
    {
     "name": "stderr",
     "output_type": "stream",
     "text": [
      "Number of non-empty cells=9: 100%|██████████| 100/100 [00:08<00:00, 12.01it/s]\n"
     ]
    },
    {
     "name": "stdout",
     "output_type": "stream",
     "text": [
      "Results for 9 non-empty cells:\n",
      "  Accuracy: 97/100 (97.00%)\n",
      "\n",
      "Testing with 10 clues...\n"
     ]
    },
    {
     "name": "stderr",
     "output_type": "stream",
     "text": [
      "Number of non-empty cells=10: 100%|██████████| 100/100 [00:08<00:00, 11.92it/s]\n"
     ]
    },
    {
     "name": "stdout",
     "output_type": "stream",
     "text": [
      "Results for 10 non-empty cells:\n",
      "  Accuracy: 100/100 (100.00%)\n",
      "\n",
      "Testing with 11 clues...\n"
     ]
    },
    {
     "name": "stderr",
     "output_type": "stream",
     "text": [
      "Number of non-empty cells=11: 100%|██████████| 100/100 [00:08<00:00, 11.68it/s]"
     ]
    },
    {
     "name": "stdout",
     "output_type": "stream",
     "text": [
      "Results for 11 non-empty cells:\n",
      "  Accuracy: 100/100 (100.00%)\n"
     ]
    },
    {
     "name": "stderr",
     "output_type": "stream",
     "text": [
      "\n"
     ]
    }
   ],
   "source": [
    "from dataset import generate_one_sample\n",
    "from transformers import T5ForConditionalGeneration\n",
    "import torch\n",
    "from tqdm import tqdm\n",
    "\n",
    "model = T5ForConditionalGeneration.from_pretrained(\"Somsung/t5-sudoku-solver\")\n",
    "\n",
    "n_non_empty_cells_range = range(6, 12)\n",
    "n_samples_per_clue = 100  # Number of samples to test for each n_non_empty_cells value\n",
    "\n",
    "for n_non_empty_cells in n_non_empty_cells_range:\n",
    "    print(f\"\\nTesting with {n_non_empty_cells} clues...\")\n",
    "    \n",
    "    correct_predictions = 0\n",
    "    total_predictions = 0\n",
    "    \n",
    "    for i in tqdm(range(n_samples_per_clue), desc=f\"Number of non-empty cells={n_non_empty_cells}\"):\n",
    "        input_ids, labels = generate_one_sample(n_clues=n_non_empty_cells)\n",
    "        input_tensor = torch.tensor([input_ids]).to(model.device)\n",
    "        \n",
    "        # Generate prediction\n",
    "        with torch.no_grad():\n",
    "            output = model.generate(input_tensor, max_new_tokens=17, do_sample=False)\n",
    "        \n",
    "        # Check if prediction is correct\n",
    "        predicted_solution = output[0][1:].tolist()  # Remove pad token\n",
    "        if predicted_solution == labels:\n",
    "            correct_predictions += 1\n",
    "        \n",
    "        total_predictions += 1\n",
    "        \n",
    "        # Calculate statistics\n",
    "        accuracy = correct_predictions / total_predictions if total_predictions > 0 else 0\n",
    "        \n",
    "    print(f\"Results for {n_non_empty_cells} non-empty cells:\")\n",
    "    print(f\"  Accuracy: {correct_predictions}/{total_predictions} ({accuracy:.2%})\")"
   ]
  },
  {
   "cell_type": "code",
   "execution_count": null,
   "metadata": {},
   "outputs": [],
   "source": []
  }
 ],
 "metadata": {
  "kernelspec": {
   "display_name": "torchenv",
   "language": "python",
   "name": "python3"
  },
  "language_info": {
   "codemirror_mode": {
    "name": "ipython",
    "version": 3
   },
   "file_extension": ".py",
   "mimetype": "text/x-python",
   "name": "python",
   "nbconvert_exporter": "python",
   "pygments_lexer": "ipython3",
   "version": "3.11.4"
  }
 },
 "nbformat": 4,
 "nbformat_minor": 2
}
